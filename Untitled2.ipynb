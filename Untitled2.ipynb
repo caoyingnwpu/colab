{
  "nbformat": 4,
  "nbformat_minor": 0,
  "metadata": {
    "colab": {
      "provenance": [],
      "toc_visible": true,
      "authorship_tag": "ABX9TyNoJhaaEVhzLbmChYTdo3r9",
      "include_colab_link": true
    },
    "kernelspec": {
      "name": "python3",
      "display_name": "Python 3"
    },
    "language_info": {
      "name": "python"
    },
    "accelerator": "GPU"
  },
  "cells": [
    {
      "cell_type": "markdown",
      "metadata": {
        "id": "view-in-github",
        "colab_type": "text"
      },
      "source": [
        "<a href=\"https://colab.research.google.com/github/caoyingnwpu/colab/blob/main/Untitled2.ipynb\" target=\"_parent\"><img src=\"https://colab.research.google.com/assets/colab-badge.svg\" alt=\"Open In Colab\"/></a>"
      ]
    },
    {
      "cell_type": "code",
      "execution_count": null,
      "metadata": {
        "colab": {
          "base_uri": "https://localhost:8080/",
          "height": 387
        },
        "id": "ggZRc8neBcFK",
        "outputId": "1b3be6d8-1b59-4809-f8d4-90343f957482"
      },
      "outputs": [
        {
          "output_type": "error",
          "ename": "ModuleNotFoundError",
          "evalue": "ignored",
          "traceback": [
            "\u001b[0;31m---------------------------------------------------------------------------\u001b[0m",
            "\u001b[0;31mModuleNotFoundError\u001b[0m                       Traceback (most recent call last)",
            "\u001b[0;32m<ipython-input-2-bece32eb7db4>\u001b[0m in \u001b[0;36m<module>\u001b[0;34m()\u001b[0m\n\u001b[1;32m      1\u001b[0m \u001b[0;32mimport\u001b[0m \u001b[0mtorch\u001b[0m\u001b[0;34m\u001b[0m\u001b[0;34m\u001b[0m\u001b[0m\n\u001b[0;32m----> 2\u001b[0;31m \u001b[0;32mfrom\u001b[0m \u001b[0mtorch_geometric\u001b[0m\u001b[0;34m.\u001b[0m\u001b[0mdatasets\u001b[0m \u001b[0;32mimport\u001b[0m \u001b[0mAmazonProducts\u001b[0m\u001b[0;34m,\u001b[0m \u001b[0mAmazon\u001b[0m\u001b[0;34m\u001b[0m\u001b[0;34m\u001b[0m\u001b[0m\n\u001b[0m\u001b[1;32m      3\u001b[0m \u001b[0;31m#amazon_products\u001b[0m\u001b[0;34m\u001b[0m\u001b[0;34m\u001b[0m\u001b[0;34m\u001b[0m\u001b[0m\n\u001b[1;32m      4\u001b[0m \u001b[0mdataset\u001b[0m \u001b[0;34m=\u001b[0m \u001b[0mAmazonProducts\u001b[0m\u001b[0;34m(\u001b[0m\u001b[0mroot\u001b[0m \u001b[0;34m=\u001b[0m \u001b[0;34m'amazondata'\u001b[0m\u001b[0;34m)\u001b[0m\u001b[0;34m\u001b[0m\u001b[0;34m\u001b[0m\u001b[0m\n\u001b[1;32m      5\u001b[0m \u001b[0;31m#dataset = Amazon('/home/yicao/ying_code/amazon/amazon_computer', 'Computers')\u001b[0m\u001b[0;34m\u001b[0m\u001b[0;34m\u001b[0m\u001b[0;34m\u001b[0m\u001b[0m\n",
            "\u001b[0;31mModuleNotFoundError\u001b[0m: No module named 'torch_geometric'",
            "",
            "\u001b[0;31m---------------------------------------------------------------------------\u001b[0;32m\nNOTE: If your import is failing due to a missing package, you can\nmanually install dependencies using either !pip or !apt.\n\nTo view examples of installing some common dependencies, click the\n\"Open Examples\" button below.\n\u001b[0;31m---------------------------------------------------------------------------\u001b[0m\n"
          ],
          "errorDetails": {
            "actions": [
              {
                "action": "open_url",
                "actionText": "Open Examples",
                "url": "/notebooks/snippets/importing_libraries.ipynb"
              }
            ]
          }
        }
      ],
      "source": [
        "import torch\n",
        "from torch_geometric.datasets import AmazonProducts, Amazon\n",
        "#amazon_products\n",
        "dataset = AmazonProducts(root = 'amazondata')\n",
        "#dataset = Amazon('/home/yicao/ying_code/amazon/amazon_computer', 'Computers')\n",
        "data = dataset[0]\n",
        "#######\n",
        "#details of the data set:\n",
        "#data.x : node feture matrix with the size of [number of nodes, number of features]\n",
        "#data.y : nodel labels\n",
        "#data.edge_index: with the shape of [2, number of edges], 每一列代表每一条边对应的两个节点的索引？\n",
        "#data.edge_attr: edge attributes, in this dataset, there is no edge attributes\n",
        "#######\n",
        "\n",
        "print(data,end=\"\\n\\n\")#number of nodes + number of features of each node\n",
        "print(\"Dataset classes = \" + str(dataset.num_classes))\n",
        "#print('labels in ['+str(1)+','+str(2)+']')\n",
        "#x = data.y#\n",
        "#print(min(data.y))\n",
        "#print(\"Labels in [\" + str(torch.min(data.y)) + \", \" + str(torch.max(data.y)) + \"]\")\n",
        "print(\"data.y = \",end=\"\")\n",
        "print(data.y,end=\"\\n\\n\")\n",
        "\n",
        "print(\"Number of Nodes = \" + str(data.num_nodes))\n",
        "print(\"Features per Node = \" + str(dataset.num_node_features))\n",
        "print(\"data.x = \", end=\"\")\n",
        "print(data.x,end=\"\\n\\n\")#node feture matrix:[number of nodes, number of features]\n",
        "\n",
        "print(\"Number of edges = \" + str(data.num_edges))\n",
        "print(\"Features per edge = \" + str(dataset.num_edge_features))\n",
        "print(\"data.edge_index = \", end=\"\")\n",
        "a = data.edge_index\n",
        "print(data.edge_index)\n",
        "print(\"data.edge_attr = \",end=\"\")\n",
        "print(data.edge_attr)#没有edge attribute\n",
        "\n",
        "#import torch\n",
        "#print(torch.cuda.is_available())#\n",
        "#from numpy import load\n",
        "#load data\n",
        "#data = load('/home/yicao/ying_code/amazon/raw/adj_full.npz')\n",
        "#lst = data.files\n",
        "#for item in lst:\n",
        "    #print(item)\n",
        "    ##print(data[item])\n",
        "#x = 1\n",
        "#the adj_full.npz: a sparse adjacency matrix\n",
        "##data = torch.load('/home/yicao/ying_code/amazon/processed/data.pt')\n",
        "#import os.path as osp\n",
        "\n",
        "#import torch\n",
        "#import torch.nn.functional as F\n",
        "#from torch_geometric.datasets import Amazon\n",
        "#import torch_geometric.transforms as T\n",
        "#from torch_geometric.nn import SplineConv\n",
        "\n",
        "##dataset = 'Computers'\n",
        "#root='/home/yicao/ying_code/amazon'\n",
        "#dataset = Amazon(root, dataset, transform=T.TargetIndegree())\n",
        "#data = dataset[0]"
      ]
    },
    {
      "cell_type": "code",
      "source": [
        "from google.colab import drive"
      ],
      "metadata": {
        "id": "vt-vSjNv24KB"
      },
      "execution_count": null,
      "outputs": []
    }
  ]
}